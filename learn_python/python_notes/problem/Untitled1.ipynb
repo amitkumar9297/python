{
 "cells": [
  {
   "cell_type": "code",
   "execution_count": 1,
   "id": "b6b14b44",
   "metadata": {},
   "outputs": [
    {
     "name": "stdout",
     "output_type": "stream",
     "text": [
      "6 5\n"
     ]
    }
   ],
   "source": [
    "# swapping a no. without using a third variable\n",
    "a=5;b=6;a,b=b,a\n",
    "print(a ,b)"
   ]
  },
  {
   "cell_type": "code",
   "execution_count": 4,
   "id": "6ca659b0",
   "metadata": {},
   "outputs": [
    {
     "name": "stdout",
     "output_type": "stream",
     "text": [
      "enter the temp in celcius50\n",
      "122.0\n"
     ]
    }
   ],
   "source": [
    "# convert celsius to fahrenheit\n",
    "celcius=eval(input(\"enter the temp in celcius\"))\n",
    "fahrenheit=(9/5)*celcius+32\n",
    "print(fahrenheit)"
   ]
  },
  {
   "cell_type": "code",
   "execution_count": 12,
   "id": "74abddd9",
   "metadata": {},
   "outputs": [
    {
     "name": "stdout",
     "output_type": "stream",
     "text": [
      "enter an integer999\n",
      "27\n"
     ]
    }
   ],
   "source": [
    "#sum of digit of an integer between 1 to 1000\n",
    "digit=int(input(\"enter an integer\"))\n",
    "rem1=digit%10\n",
    "quo1=digit//10\n",
    "rem2=quo1%10\n",
    "quo2=quo1//10\n",
    "rem3=quo2%10\n",
    "print(rem1+rem2+rem3)"
   ]
  },
  {
   "cell_type": "code",
   "execution_count": null,
   "id": "9c8c54ad",
   "metadata": {},
   "outputs": [],
   "source": []
  },
  {
   "cell_type": "code",
   "execution_count": 4,
   "id": "7a900bc9",
   "metadata": {},
   "outputs": [
    {
     "name": "stdout",
     "output_type": "stream",
     "text": [
      "amit 9\n",
      "['amit', '9']\n"
     ]
    }
   ],
   "source": [
    "n= input().split()\n",
    "print(n)"
   ]
  },
  {
   "cell_type": "code",
   "execution_count": null,
   "id": "936fcf29",
   "metadata": {},
   "outputs": [
    {
     "name": "stdout",
     "output_type": "stream",
     "text": [
      "12\n",
      "insert 0 2\n",
      "insert 1 2\n",
      "insert 0 5\n",
      "print\n",
      "[5, 2, 2]\n"
     ]
    }
   ],
   "source": [
    "N = int(input())\n",
    "    \n",
    "a=[]\n",
    "for i in range(N):\n",
    "    cmd=input().split()\n",
    "    if cmd[0]=='print':\n",
    "        print(a)\n",
    "    elif cmd[0]=='insert':\n",
    "        a.insert(int(cmd[1]), int(cmd[2]))\n",
    "    elif cmd[0]=='remove':\n",
    "        a.remove(int(cmd[1]))\n",
    "    elif cmd[0]=='pop':\n",
    "        a.pop()\n",
    "    elif cmd[0]=='append':\n",
    "        a.append(int(cmd[1]))\n",
    "    elif cmd[0]=='sort':\n",
    "            a.sort()\n",
    "    else:\n",
    "         a.reverse()\n",
    "    \n"
   ]
  },
  {
   "cell_type": "code",
   "execution_count": null,
   "id": "b8c3ebb6",
   "metadata": {},
   "outputs": [],
   "source": []
  },
  {
   "cell_type": "code",
   "execution_count": null,
   "id": "91b67e2c",
   "metadata": {},
   "outputs": [],
   "source": []
  }
 ],
 "metadata": {
  "kernelspec": {
   "display_name": "Python 3 (ipykernel)",
   "language": "python",
   "name": "python3"
  },
  "language_info": {
   "codemirror_mode": {
    "name": "ipython",
    "version": 3
   },
   "file_extension": ".py",
   "mimetype": "text/x-python",
   "name": "python",
   "nbconvert_exporter": "python",
   "pygments_lexer": "ipython3",
   "version": "3.10.2"
  }
 },
 "nbformat": 4,
 "nbformat_minor": 5
}
