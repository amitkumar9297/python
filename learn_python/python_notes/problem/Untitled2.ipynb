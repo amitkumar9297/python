{
 "cells": [
  {
   "cell_type": "code",
   "execution_count": 29,
   "id": "bab407e5",
   "metadata": {},
   "outputs": [
    {
     "name": "stdout",
     "output_type": "stream",
     "text": [
      "helo\n"
     ]
    }
   ],
   "source": [
    "# remove duplicate character in a string\n",
    "def rs(str1):\n",
    "    i=0\n",
    "    s1=\"\"\n",
    "    le=len(str1)\n",
    "    for x in str1:\n",
    "        if str1.index(x)==i:\n",
    "            s1+=x\n",
    "        i=i+1\n",
    "    print(s1)\n",
    "    \n",
    "str0=\"hello\"\n",
    "rs(str0)"
   ]
  },
  {
   "cell_type": "code",
   "execution_count": null,
   "id": "e1b0cdff",
   "metadata": {},
   "outputs": [],
   "source": []
  },
  {
   "cell_type": "code",
   "execution_count": null,
   "id": "7e70b13c",
   "metadata": {},
   "outputs": [],
   "source": []
  }
 ],
 "metadata": {
  "kernelspec": {
   "display_name": "Python 3 (ipykernel)",
   "language": "python",
   "name": "python3"
  },
  "language_info": {
   "codemirror_mode": {
    "name": "ipython",
    "version": 3
   },
   "file_extension": ".py",
   "mimetype": "text/x-python",
   "name": "python",
   "nbconvert_exporter": "python",
   "pygments_lexer": "ipython3",
   "version": "3.10.2"
  }
 },
 "nbformat": 4,
 "nbformat_minor": 5
}
