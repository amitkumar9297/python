{
 "cells": [
  {
   "cell_type": "code",
   "execution_count": 2,
   "id": "ea61465e",
   "metadata": {},
   "outputs": [
    {
     "name": "stdout",
     "output_type": "stream",
     "text": [
      "enter a number45\n",
      "factor of a no.: [1, 3, 5, 9, 15, 45]\n",
      "9\n",
      "15\n",
      "45\n",
      "prime factors are: [3, 5]\n"
     ]
    }
   ],
   "source": [
    "\n",
    "n = int(input(\"enter a number\"))\n",
    "l1=[]\n",
    "for i in range(1,n+1):\n",
    "    if n%i==0:\n",
    "        l1.append(i)\n",
    "print(\"factor of a no.:\",l1)\n",
    "l2=[]\n",
    "for j in l1:\n",
    "    for k in range(2,j):\n",
    "        if j%k==0:\n",
    "            break\n",
    "    else:\n",
    "        if j>1:\n",
    "            l2.append(j)\n",
    "print(\"prime factors are:\",l2)"
   ]
  },
  {
   "cell_type": "code",
   "execution_count": null,
   "id": "65e45e7c",
   "metadata": {},
   "outputs": [],
   "source": []
  },
  {
   "cell_type": "code",
   "execution_count": null,
   "id": "01e9ce85",
   "metadata": {},
   "outputs": [],
   "source": []
  }
 ],
 "metadata": {
  "kernelspec": {
   "display_name": "Python 3 (ipykernel)",
   "language": "python",
   "name": "python3"
  },
  "language_info": {
   "codemirror_mode": {
    "name": "ipython",
    "version": 3
   },
   "file_extension": ".py",
   "mimetype": "text/x-python",
   "name": "python",
   "nbconvert_exporter": "python",
   "pygments_lexer": "ipython3",
   "version": "3.10.2"
  }
 },
 "nbformat": 4,
 "nbformat_minor": 5
}
