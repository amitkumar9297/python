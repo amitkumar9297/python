{
 "cells": [
  {
   "cell_type": "code",
   "execution_count": 2,
   "id": "d9458828",
   "metadata": {},
   "outputs": [
    {
     "name": "stdout",
     "output_type": "stream",
     "text": [
      "enter no for checking nearest prime no89\n",
      "83\n",
      "97\n",
      "83 is a nearest prime no.\n"
     ]
    }
   ],
   "source": [
    "n = int(input(\"enter no for checking nearest prime no\"))\n",
    "c=n\n",
    "def prime(n):\n",
    "    a=2\n",
    "    flag=True\n",
    "    while a<n:\n",
    "        if n%a==0:\n",
    "            break\n",
    "        a=a+1\n",
    "    else:\n",
    "        \n",
    "        flag=True\n",
    "        return flag\n",
    "\n",
    "\n",
    "for i in range(n-1,1,-1):\n",
    "    if prime(i)== True:\n",
    "        global a\n",
    "        a=i\n",
    "        print(a)\n",
    "        break\n",
    "        \n",
    "\n",
    "while True:\n",
    "    n=n+1\n",
    "    if prime(n)==True:\n",
    "        global b\n",
    "        b=n\n",
    "        print(b)\n",
    "        break\n",
    "\n",
    "if (b-c)>(c-a):\n",
    "    print(a,\"is a nearest prime no.\")\n",
    "\n",
    "elif (b-c)<(c-a):\n",
    "    print(b,\"is a nearest prime no\")\n",
    "else:\n",
    "    print(\"both are at equal distance\",a,b,\"from\",c)"
   ]
  },
  {
   "cell_type": "code",
   "execution_count": 3,
   "id": "f8a363c6",
   "metadata": {},
   "outputs": [
    {
     "name": "stdout",
     "output_type": "stream",
     "text": [
      "***************\n"
     ]
    }
   ],
   "source": [
    "print(\"***\"*5)"
   ]
  },
  {
   "cell_type": "code",
   "execution_count": 4,
   "id": "c076ae14",
   "metadata": {},
   "outputs": [
    {
     "name": "stdout",
     "output_type": "stream",
     "text": [
      "c:  p\n",
      "c:  w\n",
      "[['p']]\n",
      "c:  w  - str:  ['p'] \n",
      "\n",
      "c:  w\n",
      "[['p', 'w'], ['w']]\n",
      "c:  w  - str:  ['p', 'w'] \n",
      "\n",
      "c:  k\n",
      "[['w'], ['w']]\n",
      "c:  k  - str:  ['w'] \n",
      "\n",
      "c:  k  - str:  ['w'] \n",
      "\n",
      "c:  e\n",
      "[['w', 'k'], ['w', 'k'], ['k']]\n",
      "c:  e  - str:  ['w', 'k'] \n",
      "\n",
      "c:  e  - str:  ['w', 'k'] \n",
      "\n",
      "c:  e  - str:  ['k'] \n",
      "\n",
      "c:  w\n",
      "[['w', 'k', 'e'], ['w', 'k', 'e'], ['k', 'e'], ['e']]\n",
      "c:  w  - str:  ['w', 'k', 'e'] \n",
      "\n",
      "c:  w  - str:  ['k', 'e'] \n",
      "\n",
      "c:  w  - str:  ['e'] \n",
      "\n",
      "c:  a\n",
      "[['w', 'k', 'e'], ['k', 'e', 'w'], ['e', 'w'], ['w']]\n",
      "c:  a  - str:  ['w', 'k', 'e'] \n",
      "\n",
      "c:  a  - str:  ['k', 'e', 'w'] \n",
      "\n",
      "c:  a  - str:  ['e', 'w'] \n",
      "\n",
      "c:  a  - str:  ['w'] \n",
      "\n",
      "c:  m\n",
      "[['w', 'k', 'e', 'a'], ['k', 'e', 'w', 'a'], ['e', 'w', 'a'], ['w', 'a'], ['a']]\n",
      "c:  m  - str:  ['w', 'k', 'e', 'a'] \n",
      "\n",
      "c:  m  - str:  ['k', 'e', 'w', 'a'] \n",
      "\n",
      "c:  m  - str:  ['e', 'w', 'a'] \n",
      "\n",
      "c:  m  - str:  ['w', 'a'] \n",
      "\n",
      "c:  m  - str:  ['a'] \n",
      "\n",
      "c:  b\n",
      "[['w', 'k', 'e', 'a', 'm'], ['k', 'e', 'w', 'a', 'm'], ['e', 'w', 'a', 'm'], ['w', 'a', 'm'], ['a', 'm'], ['m']]\n",
      "c:  b  - str:  ['w', 'k', 'e', 'a', 'm'] \n",
      "\n",
      "c:  b  - str:  ['k', 'e', 'w', 'a', 'm'] \n",
      "\n",
      "c:  b  - str:  ['e', 'w', 'a', 'm'] \n",
      "\n",
      "c:  b  - str:  ['w', 'a', 'm'] \n",
      "\n",
      "c:  b  - str:  ['a', 'm'] \n",
      "\n",
      "c:  b  - str:  ['m'] \n",
      "\n",
      "c:  b\n",
      "[['w', 'k', 'e', 'a', 'm', 'b'], ['k', 'e', 'w', 'a', 'm', 'b'], ['e', 'w', 'a', 'm', 'b'], ['w', 'a', 'm', 'b'], ['a', 'm', 'b'], ['m', 'b'], ['b']]\n",
      "c:  b  - str:  ['w', 'k', 'e', 'a', 'm', 'b'] \n",
      "\n",
      "c:  b  - str:  ['e', 'w', 'a', 'm', 'b'] \n",
      "\n",
      "c:  b  - str:  ['a', 'm', 'b'] \n",
      "\n",
      "c:  b  - str:  ['b'] \n",
      "\n",
      "Result set:\n",
      "[['p', 'w'], ['w', 'k', 'e'], ['w', 'k', 'e', 'a', 'm', 'b'], ['e', 'w', 'a', 'm', 'b'], ['a', 'm', 'b'], ['b']]\n",
      "['w', 'k', 'e', 'a', 'm', 'b']\n"
     ]
    }
   ],
   "source": [
    "def findLongest(inputStr):\n",
    "    resultSet = []\n",
    "    substr = []\n",
    "\n",
    "    for c in inputStr:\n",
    "        print (\"c: \", c)\n",
    "        if substr == []:\n",
    "            substr.append([c])\n",
    "            continue\n",
    "\n",
    "        print(substr)\n",
    "        for str in substr:\n",
    "            print (\"c: \",c,\" - str: \",str,\"\\n\")\n",
    "            if c in str:\n",
    "                resultSet.append(str)\n",
    "                substr.remove(str)\n",
    "            else:\n",
    "                str.append(c)\n",
    "        substr.append([c])\n",
    "\n",
    "\n",
    "\n",
    "    print(\"Result set:\")\n",
    "    print(resultSet)\n",
    "    return max(resultSet, key=len)\n",
    "\n",
    "print (findLongest(\"pwwkewambb\"))"
   ]
  },
  {
   "cell_type": "code",
   "execution_count": 4,
   "id": "e20fe498",
   "metadata": {},
   "outputs": [
    {
     "name": "stdout",
     "output_type": "stream",
     "text": [
      "hello\n"
     ]
    }
   ],
   "source": [
    "s=\"hello\"\n",
    "print(s[0:len(s)])"
   ]
  },
  {
   "cell_type": "code",
   "execution_count": 7,
   "id": "9c662481",
   "metadata": {},
   "outputs": [
    {
     "data": {
      "text/plain": [
       "32"
      ]
     },
     "execution_count": 7,
     "metadata": {},
     "output_type": "execute_result"
    }
   ],
   "source": [
    "def my_pow(x,y):\n",
    "    if y==1:\n",
    "        return x\n",
    "    else:\n",
    "        return x*(my_pow(x,y-1))\n",
    "my_pow(2,5)"
   ]
  },
  {
   "cell_type": "code",
   "execution_count": 2,
   "id": "dadb2fa9",
   "metadata": {},
   "outputs": [
    {
     "name": "stdout",
     "output_type": "stream",
     "text": [
      "0\n"
     ]
    }
   ],
   "source": [
    "def fib(n):\n",
    "    if n==1:\n",
    "        return 0\n",
    "    elif n==2:\n",
    "        return 1\n",
    "    else:\n",
    "        return fib(n-1)+fib(n-2)\n",
    "\n",
    "\n",
    "print(fib(1))"
   ]
  },
  {
   "cell_type": "code",
   "execution_count": 3,
   "id": "17188478",
   "metadata": {},
   "outputs": [
    {
     "name": "stdout",
     "output_type": "stream",
     "text": [
      "120\n"
     ]
    }
   ],
   "source": [
    "def fac(n):\n",
    "    if n==0 or n==1:\n",
    "        return 1\n",
    "    else:\n",
    "        return n*fac(n-1)\n",
    "\n",
    "print(fac(5))"
   ]
  },
  {
   "cell_type": "code",
   "execution_count": null,
   "id": "a98cdfe7",
   "metadata": {},
   "outputs": [],
   "source": []
  }
 ],
 "metadata": {
  "kernelspec": {
   "display_name": "Python 3 (ipykernel)",
   "language": "python",
   "name": "python3"
  },
  "language_info": {
   "codemirror_mode": {
    "name": "ipython",
    "version": 3
   },
   "file_extension": ".py",
   "mimetype": "text/x-python",
   "name": "python",
   "nbconvert_exporter": "python",
   "pygments_lexer": "ipython3",
   "version": "3.10.2"
  }
 },
 "nbformat": 4,
 "nbformat_minor": 5
}
