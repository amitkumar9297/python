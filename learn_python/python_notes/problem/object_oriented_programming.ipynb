{
 "cells": [
  {
   "cell_type": "code",
   "execution_count": 9,
   "id": "3128f905",
   "metadata": {},
   "outputs": [
    {
     "name": "stdout",
     "output_type": "stream",
     "text": [
      "i5, 16gb 1TB\n",
      "i5, 16gb 1TB\n",
      "i5, 16gb 1TB\n",
      "i5, 16gb 1TB\n"
     ]
    }
   ],
   "source": [
    "class computer:\n",
    "    def config(self):\n",
    "        print(\"i5, 16gb 1TB\")\n",
    "        \n",
    "\n",
    "com1 = computer()\n",
    "com2 = computer()\n",
    "\n",
    "computer.config(com1)\n",
    "computer.config(com2)\n",
    "\n",
    "com1.config()\n",
    "com2.config()"
   ]
  },
  {
   "cell_type": "code",
   "execution_count": 4,
   "id": "468ab59e",
   "metadata": {},
   "outputs": [
    {
     "name": "stdout",
     "output_type": "stream",
     "text": [
      "enter any three no.3 4 5\n",
      "sum of entered three no.s is 12\n"
     ]
    }
   ],
   "source": [
    "a, b, c = [int(x) for x in input(\"enter any three no.\").split(' ')] \n",
    "print(\"sum of entered three no.s is\" , a+b+c)"
   ]
  },
  {
   "cell_type": "code",
   "execution_count": 10,
   "id": "b232ca5d",
   "metadata": {},
   "outputs": [
    {
     "name": "stdout",
     "output_type": "stream",
     "text": [
      "enter something'heelo'\n",
      "<class 'str'>\n"
     ]
    }
   ],
   "source": [
    "a= eval(input(\"enter something\"))\n",
    "print(type(a))"
   ]
  },
  {
   "cell_type": "code",
   "execution_count": null,
   "id": "d68f65de",
   "metadata": {},
   "outputs": [],
   "source": []
  }
 ],
 "metadata": {
  "kernelspec": {
   "display_name": "Python 3 (ipykernel)",
   "language": "python",
   "name": "python3"
  },
  "language_info": {
   "codemirror_mode": {
    "name": "ipython",
    "version": 3
   },
   "file_extension": ".py",
   "mimetype": "text/x-python",
   "name": "python",
   "nbconvert_exporter": "python",
   "pygments_lexer": "ipython3",
   "version": "3.10.2"
  }
 },
 "nbformat": 4,
 "nbformat_minor": 5
}
