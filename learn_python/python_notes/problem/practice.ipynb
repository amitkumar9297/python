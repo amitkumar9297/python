{
 "cells": [
  {
   "cell_type": "code",
   "execution_count": 1,
   "id": "5e0bba18",
   "metadata": {},
   "outputs": [
    {
     "name": "stdout",
     "output_type": "stream",
     "text": [
      "olleh\n"
     ]
    }
   ],
   "source": [
    "# reverse the string\n",
    "\n",
    "s='hello'\n",
    "emp=''\n",
    "for x in s:\n",
    "    emp=x+emp\n",
    "print(emp)"
   ]
  },
  {
   "cell_type": "code",
   "execution_count": 12,
   "id": "103ea50a",
   "metadata": {},
   "outputs": [
    {
     "name": "stdout",
     "output_type": "stream",
     "text": [
      "[0, 1, 8, 6, 5, 4, 7, 3, 9, 2]\n"
     ]
    }
   ],
   "source": [
    "l1=[1,2,3,4,5,6,7,8,9,0]\n",
    "for x in l1:\n",
    "    for y in range(1,len(l1)):\n",
    "        if l1[x]>l1[y]:\n",
    "            l1[x],l1[y]=l1[y],l1[x]\n",
    "print(l1)\n",
    "            "
   ]
  },
  {
   "cell_type": "code",
   "execution_count": 14,
   "id": "ff6cf868",
   "metadata": {},
   "outputs": [
    {
     "name": "stdout",
     "output_type": "stream",
     "text": [
      "5050\n"
     ]
    }
   ],
   "source": [
    "n=100\n",
    "a=1\n",
    "b=0\n",
    "while a<=100:\n",
    "    b=b+a\n",
    "    a=a+1\n",
    "print(b)"
   ]
  },
  {
   "cell_type": "code",
   "execution_count": null,
   "id": "3ac09774",
   "metadata": {},
   "outputs": [],
   "source": []
  }
 ],
 "metadata": {
  "kernelspec": {
   "display_name": "Python 3 (ipykernel)",
   "language": "python",
   "name": "python3"
  },
  "language_info": {
   "codemirror_mode": {
    "name": "ipython",
    "version": 3
   },
   "file_extension": ".py",
   "mimetype": "text/x-python",
   "name": "python",
   "nbconvert_exporter": "python",
   "pygments_lexer": "ipython3",
   "version": "3.10.2"
  }
 },
 "nbformat": 4,
 "nbformat_minor": 5
}
