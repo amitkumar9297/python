{
 "cells": [
  {
   "cell_type": "code",
   "execution_count": 6,
   "id": "8bb829bc",
   "metadata": {},
   "outputs": [
    {
     "name": "stdout",
     "output_type": "stream",
     "text": [
      "enter a no.5\n",
      "it is a prime no. \n",
      "5\n"
     ]
    }
   ],
   "source": [
    "# code for find out prime no. or not\n",
    "n=int(input(\"enter a no.\"))\n",
    "a=0\n",
    "\n",
    "for i in range(2,n):\n",
    "    if n%i==0:\n",
    "        print(\"it ia not a prime no.\")\n",
    "        break\n",
    "else:\n",
    "    a=a+(i+1)\n",
    "    \n",
    "    print(\"it is a prime no. \")\n",
    "print(a)    \n",
    "    "
   ]
  },
  {
   "cell_type": "code",
   "execution_count": 2,
   "id": "a68b3d02",
   "metadata": {},
   "outputs": [
    {
     "name": "stdout",
     "output_type": "stream",
     "text": [
      "53\n",
      "59\n",
      "61\n",
      "67\n",
      "71\n",
      "73\n",
      "79\n",
      "83\n",
      "89\n",
      "97\n",
      "101\n",
      "103\n",
      "107\n",
      "109\n",
      "113\n",
      "127\n",
      "131\n",
      "137\n",
      "139\n",
      "149\n",
      "151\n",
      "157\n",
      "163\n",
      "167\n",
      "173\n",
      "179\n",
      "181\n",
      "191\n",
      "193\n",
      "197\n",
      "199\n",
      "3899\n"
     ]
    }
   ],
   "source": [
    "# code for find out prime no. or not\n",
    "n=50\n",
    "m=200\n",
    "a=0\n",
    "for i in range(n,m+1):\n",
    "    for j in range(2,i):\n",
    "        if i%j==0:\n",
    "            break\n",
    "    else:\n",
    "        print(i)\n",
    "        a=a+i\n",
    "print(a)   "
   ]
  },
  {
   "cell_type": "code",
   "execution_count": null,
   "id": "a58147f3",
   "metadata": {},
   "outputs": [],
   "source": [
    "# convert no. decimal to binary,hexa,octal\n",
    "\n",
    "n= int(input(\"enter a no.\"))\n",
    "print(bin(n)[2:])\n",
    "print(oct(n)[2:])\n",
    "print(hex(n)[2:])"
   ]
  },
  {
   "cell_type": "code",
   "execution_count": null,
   "id": "74834a24",
   "metadata": {},
   "outputs": [],
   "source": [
    "# convert a binary no to decimal\n",
    "binary=int(input(\"enter a binary no.\"))\n",
    "i=0\n",
    "sum=0\n",
    "while binary!=0:\n",
    "    rem=binary%10\n",
    "    sum=sum+rem*pow(2,i)\n",
    "    binary=binary//10\n",
    "    i=i+1\n",
    "print(sum)"
   ]
  },
  {
   "cell_type": "code",
   "execution_count": null,
   "id": "b3c9f8f4",
   "metadata": {},
   "outputs": [],
   "source": [
    "# find lcm\n",
    "n=int(input(\"enter the first no.\"))\n",
    "m=int(input(\"enter the second no.\"))\n",
    "if n>m:\n",
    "    for i in range(2,n):\n",
    "        "
   ]
  }
 ],
 "metadata": {
  "kernelspec": {
   "display_name": "Python 3 (ipykernel)",
   "language": "python",
   "name": "python3"
  },
  "language_info": {
   "codemirror_mode": {
    "name": "ipython",
    "version": 3
   },
   "file_extension": ".py",
   "mimetype": "text/x-python",
   "name": "python",
   "nbconvert_exporter": "python",
   "pygments_lexer": "ipython3",
   "version": "3.10.2"
  }
 },
 "nbformat": 4,
 "nbformat_minor": 5
}
