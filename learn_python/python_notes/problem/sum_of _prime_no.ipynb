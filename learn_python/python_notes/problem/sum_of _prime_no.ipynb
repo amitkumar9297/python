{
 "cells": [
  {
   "cell_type": "code",
   "execution_count": 6,
   "id": "c965b525",
   "metadata": {},
   "outputs": [
    {
     "name": "stdout",
     "output_type": "stream",
     "text": [
      " enter the intial limit of prime no.3\n",
      " enter the final limit of prime no.30\n",
      "3\n",
      "5\n",
      "7\n",
      "11\n",
      "13\n",
      "17\n",
      "19\n",
      "23\n",
      "29\n",
      "sum of prime no. 127\n"
     ]
    }
   ],
   "source": [
    "n=int(input(\" enter the intial limit of prime no.\"))\n",
    "m=int(input(\" enter the final limit of prime no.\"))\n",
    "c=0\n",
    "for i in range(n,m+1):\n",
    "    for j in range(2,i):\n",
    "        if i%j==0:\n",
    "            global a\n",
    "            break\n",
    "    else:\n",
    "        c=c+i\n",
    "        a=i\n",
    "        print(a)\n",
    "print(\"sum of prime no.\",c)       "
   ]
  },
  {
   "cell_type": "code",
   "execution_count": null,
   "id": "7c882fad",
   "metadata": {},
   "outputs": [],
   "source": []
  }
 ],
 "metadata": {
  "kernelspec": {
   "display_name": "Python 3 (ipykernel)",
   "language": "python",
   "name": "python3"
  },
  "language_info": {
   "codemirror_mode": {
    "name": "ipython",
    "version": 3
   },
   "file_extension": ".py",
   "mimetype": "text/x-python",
   "name": "python",
   "nbconvert_exporter": "python",
   "pygments_lexer": "ipython3",
   "version": "3.10.2"
  }
 },
 "nbformat": 4,
 "nbformat_minor": 5
}
